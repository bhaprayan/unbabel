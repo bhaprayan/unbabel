{
 "cells": [
  {
   "cell_type": "code",
   "execution_count": 1,
   "metadata": {},
   "outputs": [
    {
     "name": "stderr",
     "output_type": "stream",
     "text": [
      "/home/shubhand/miniconda3/envs/dl/lib/python3.6/site-packages/tensorboard/compat/tensorflow_stub/dtypes.py:541: FutureWarning: Passing (type, 1) or '1type' as a synonym of type is deprecated; in a future version of numpy, it will be understood as (type, (1,)) / '(1,)type'.\n",
      "  _np_qint8 = np.dtype([(\"qint8\", np.int8, 1)])\n",
      "/home/shubhand/miniconda3/envs/dl/lib/python3.6/site-packages/tensorboard/compat/tensorflow_stub/dtypes.py:542: FutureWarning: Passing (type, 1) or '1type' as a synonym of type is deprecated; in a future version of numpy, it will be understood as (type, (1,)) / '(1,)type'.\n",
      "  _np_quint8 = np.dtype([(\"quint8\", np.uint8, 1)])\n",
      "/home/shubhand/miniconda3/envs/dl/lib/python3.6/site-packages/tensorboard/compat/tensorflow_stub/dtypes.py:543: FutureWarning: Passing (type, 1) or '1type' as a synonym of type is deprecated; in a future version of numpy, it will be understood as (type, (1,)) / '(1,)type'.\n",
      "  _np_qint16 = np.dtype([(\"qint16\", np.int16, 1)])\n",
      "/home/shubhand/miniconda3/envs/dl/lib/python3.6/site-packages/tensorboard/compat/tensorflow_stub/dtypes.py:544: FutureWarning: Passing (type, 1) or '1type' as a synonym of type is deprecated; in a future version of numpy, it will be understood as (type, (1,)) / '(1,)type'.\n",
      "  _np_quint16 = np.dtype([(\"quint16\", np.uint16, 1)])\n",
      "/home/shubhand/miniconda3/envs/dl/lib/python3.6/site-packages/tensorboard/compat/tensorflow_stub/dtypes.py:545: FutureWarning: Passing (type, 1) or '1type' as a synonym of type is deprecated; in a future version of numpy, it will be understood as (type, (1,)) / '(1,)type'.\n",
      "  _np_qint32 = np.dtype([(\"qint32\", np.int32, 1)])\n",
      "/home/shubhand/miniconda3/envs/dl/lib/python3.6/site-packages/tensorboard/compat/tensorflow_stub/dtypes.py:550: FutureWarning: Passing (type, 1) or '1type' as a synonym of type is deprecated; in a future version of numpy, it will be understood as (type, (1,)) / '(1,)type'.\n",
      "  np_resource = np.dtype([(\"resource\", np.ubyte, 1)])\n"
     ]
    }
   ],
   "source": [
    "import numpy as np\n",
    "import pandas as pd\n",
    "import IPython\n",
    "import os\n",
    "import glob\n",
    "import matplotlib.pyplot as plt\n",
    "\n",
    "import torch\n",
    "import torch.nn as nn\n",
    "import torch.nn.functional as F\n",
    "import torch.optim as optim\n",
    "from torch.optim.lr_scheduler import ReduceLROnPlateau\n",
    "from torch.utils.data import DataLoader, Dataset\n",
    "from torch.utils.tensorboard import SummaryWriter\n",
    "from tqdm import tqdm, tqdm_notebook\n",
    "\n",
    "from pyAudioAnalysis import audioSegmentation as aS\n",
    "from pydub import AudioSegment\n",
    "import pydub\n",
    "\n",
    "import torchaudio\n",
    "import torchaudio.transforms as transforms\n",
    "import librosa\n",
    "import librosa.display"
   ]
  },
  {
   "cell_type": "code",
   "execution_count": 2,
   "metadata": {},
   "outputs": [
    {
     "data": {
      "text/plain": [
       "'1.5.0'"
      ]
     },
     "execution_count": 2,
     "metadata": {},
     "output_type": "execute_result"
    }
   ],
   "source": [
    "torch.__version__"
   ]
  },
  {
   "cell_type": "code",
   "execution_count": 3,
   "metadata": {},
   "outputs": [],
   "source": [
    "%load_ext autoreload\n",
    "%autoreload 2\n",
    "%matplotlib inline  "
   ]
  },
  {
   "cell_type": "code",
   "execution_count": 4,
   "metadata": {},
   "outputs": [],
   "source": [
    "def count_parameters(model):\n",
    "    return sum(p.numel() for p in model.parameters() if p.requires_grad)"
   ]
  },
  {
   "cell_type": "code",
   "execution_count": 5,
   "metadata": {},
   "outputs": [],
   "source": [
    "class PollyDataset(Dataset):\n",
    "    def __init__(self):\n",
    "        uk_words = set(map(lambda x: x.split('/')[-1][:-7], glob.glob(\"data/uk/*\")))\n",
    "        us_words = set(map(lambda x: x.split('/')[-1][:-7], glob.glob(\"data/us/*\")))\n",
    "        common_words = list(uk_words.intersection(us_words))\n",
    "        self.uk_words_common = list(map(lambda x: \"data/uk/\" + x + \"_uk.mp3\", common_words))\n",
    "        self.us_words_common = list(map(lambda x: \"data/us/\" + x + \"_us.mp3\", common_words))\n",
    "        \n",
    "        self.sg_transform = torchaudio.transforms.Spectrogram(n_fft=255)\n",
    "        \n",
    "    def __getitem__(self, idx):\n",
    "        # load and compute spectrogram (sg) for us accent word\n",
    "        us_audio = torchaudio.load(self.us_words_common[idx])[0]\n",
    "        eps = 1e-5\n",
    "        us_sg = F.interpolate(\n",
    "            self.sg_transform(\n",
    "                us_audio\n",
    "            ), size = 128\n",
    "        )\n",
    "        # load and compute spectrogram (sg) for uk accent word\n",
    "        uk_audio = torchaudio.load(self.uk_words_common[idx])[0]\n",
    "        uk_sg = F.interpolate(\n",
    "            self.sg_transform(\n",
    "                uk_audio\n",
    "            ), size = 128\n",
    "        )\n",
    "        return (us_sg, uk_sg)\n",
    "    \n",
    "    def __len__(self):\n",
    "        return len(self.us_words_common)"
   ]
  },
  {
   "cell_type": "code",
   "execution_count": 6,
   "metadata": {},
   "outputs": [
    {
     "name": "stdout",
     "output_type": "stream",
     "text": [
      "480\n"
     ]
    }
   ],
   "source": [
    "polly = PollyDataset()\n",
    "batch_size = 64\n",
    "\n",
    "loader_train = torch.utils.data.DataLoader(polly, batch_size=batch_size,\n",
    "                                          shuffle=False, num_workers=8, pin_memory=True, drop_last=True)\n",
    "iter_train = iter(loader_train)\n",
    "print(len(loader_train))"
   ]
  },
  {
   "cell_type": "code",
   "execution_count": null,
   "metadata": {},
   "outputs": [],
   "source": [
    "sample = iter_train.next()\n",
    "sample[0].shape"
   ]
  },
  {
   "cell_type": "code",
   "execution_count": null,
   "metadata": {},
   "outputs": [],
   "source": [
    "uk_audio, rate = torchaudio.load(\"data/uk/treaty_uk.mp3\")\n",
    "print(rate)\n",
    "IPython.display.Audio(uk_audio.numpy(), rate=rate)"
   ]
  },
  {
   "cell_type": "code",
   "execution_count": null,
   "metadata": {},
   "outputs": [],
   "source": [
    "us_audio, rate = torchaudio.load(\"data/us/treaty_us.mp3\")\n",
    "IPython.display.Audio(us_audio.numpy(), rate=rate)"
   ]
  },
  {
   "cell_type": "code",
   "execution_count": null,
   "metadata": {},
   "outputs": [],
   "source": [
    "us_sg = F.interpolate(\n",
    "            polly.sg_transform(\n",
    "                us_audio\n",
    "            ).log2(), size = 128\n",
    "        )\n",
    "uk_sg = F.interpolate(\n",
    "            polly.sg_transform(\n",
    "                uk_audio\n",
    "            ).log2(), size = 128\n",
    "        )\n",
    "fig = plt.figure(figsize=(8, 8))\n",
    "fig.add_subplot(1, 2, 1)\n",
    "plt.imshow(us_sg[0][:128, :])\n",
    "fig.add_subplot(1, 2, 2)\n",
    "plt.imshow(uk_sg[0][:128, :])\n",
    "plt.imsave('polly_accent_transfer.png')"
   ]
  },
  {
   "cell_type": "code",
   "execution_count": null,
   "metadata": {},
   "outputs": [],
   "source": [
    "IPython.display.Audio(polly[1][2].numpy(), rate=polly[1][3])"
   ]
  },
  {
   "cell_type": "code",
   "execution_count": 7,
   "metadata": {},
   "outputs": [],
   "source": [
    "class ATModel(nn.Module):\n",
    "    def __init__(self, in_channels, out_channels, kernel_size, stride, padding, batch_size):\n",
    "        super(ATModel, self).__init__()\n",
    "        self.batch_size = batch_size\n",
    "        self.embedding_size = 1024\n",
    "        self.seq_len = 8 \n",
    "        self.features = int(self.embedding_size/self.seq_len)\n",
    "        self.hidden_size = int(self.features)\n",
    "        \n",
    "        self.conv1 = nn.Conv2d(\n",
    "            in_channels, out_channels, kernel_size=3, stride=stride, padding=1\n",
    "        )\n",
    "        self.bn1 = nn.BatchNorm2d(out_channels)\n",
    "        self.relu = nn.ReLU(inplace=True)\n",
    "        self.conv2 = nn.Conv2d(\n",
    "            out_channels, out_channels, kernel_size=3, stride=stride, padding=1\n",
    "        )\n",
    "        self.bn2 = nn.BatchNorm2d(out_channels)\n",
    "        \n",
    "        self.maxpool = nn.MaxPool2d(kernel_size=2)\n",
    "        \n",
    "        self.conv_fc = nn.Linear(768, self.embedding_size)\n",
    "        \n",
    "        \n",
    "        self.lstm = nn.LSTM(\n",
    "            input_size=self.features,\n",
    "            hidden_size=self.hidden_size,\n",
    "            num_layers=3,\n",
    "            batch_first=True,\n",
    "            bidirectional=False\n",
    "        )\n",
    "        \n",
    "        self.lstm_fc1 = nn.Linear(self.embedding_size * 2, self.embedding_size)\n",
    "        \n",
    "        self.lstm_fc2 = nn.Linear(self.embedding_size, 128 * 128)\n",
    "        \n",
    "        \n",
    "        self.deconv1 = nn.ConvTranspose2d(1, 3, 4, stride=2, padding=1)\n",
    "        self.bn_dc1 = nn.BatchNorm2d(3)\n",
    "        \n",
    "        self.deconv2 = nn.ConvTranspose2d(3, 1, 4, stride=2, padding=1)\n",
    "        self.bn_dc2 = nn.BatchNorm2d(1)\n",
    "        \n",
    "    def forward(self, x):\n",
    "#         print('input:', x.shape)\n",
    "        x = self.conv1(x)\n",
    "        x = F.relu(x)\n",
    "        x = self.bn1(x)\n",
    "        \n",
    "#         print('conv1:', x.shape)\n",
    "        x = self.conv2(x)\n",
    "        x = F.relu(x)\n",
    "        x = self.bn2(x)\n",
    "        \n",
    "#         print('conv2:', x.shape)\n",
    "        \n",
    "        x = self.maxpool(x)\n",
    "        \n",
    "#         print('maxpool:', x.shape)\n",
    "        x = torch.flatten(x, 1)\n",
    "        x = self.conv_fc(x)\n",
    "#         print('conv_fc:', x.shape)\n",
    "        x = x.view(self.batch_size, self.seq_len, self.features)\n",
    "#         print('x_view:', x.shape)\n",
    "        x, (h_n, c_n) = self.lstm(x)\n",
    "#         print('lstm:', x.shape)\n",
    "        x = x.reshape(self.batch_size, 1, 32, 32)\n",
    "#         x = x.reshape(self.batch_size, self.embedding_size)\n",
    "\n",
    "        x = self.deconv1(x)\n",
    "        x = F.relu(x)\n",
    "        x = self.bn_dc1(x)\n",
    "#         print('deconv1:', x.shape)\n",
    "        \n",
    "        x = self.deconv2(x)\n",
    "        x = F.relu(x)\n",
    "        x = self.bn_dc2(x)\n",
    "#         print('deconv2:', x.shape)\n",
    "#         x = self.lstm_fc1(x)\n",
    "#         x = F.relu(x)\n",
    "        \n",
    "#         x = self.lstm_fc2(x)\n",
    "#         x = F.relu(x)\n",
    "\n",
    "#         print('lstm_fc:', x.shape)\n",
    "        return x    "
   ]
  },
  {
   "cell_type": "code",
   "execution_count": null,
   "metadata": {},
   "outputs": [],
   "source": [
    "torch.cuda.empty_cache()"
   ]
  },
  {
   "cell_type": "code",
   "execution_count": 8,
   "metadata": {},
   "outputs": [
    {
     "name": "stdout",
     "output_type": "stream",
     "text": [
      "cuda:0\n"
     ]
    }
   ],
   "source": [
    "model = ATModel(in_channels=1, out_channels=3, kernel_size=3, stride=2, padding=1, batch_size=batch_size)\n",
    "count_parameters(model)\n",
    "\n",
    "device = (\"cuda:0\" if torch.cuda.is_available() else \"cpu\")\n",
    "print(device)\n",
    "model.to(device)\n",
    "model.train()\n",
    "criterion = nn.L1Loss()\n",
    "\n",
    "optimizer = optim.Adam(model.parameters(), lr=1e-2)\n",
    "scheduler = torch.optim.lr_scheduler.ReduceLROnPlateau(optimizer, patience=5, threshold=1e-5)"
   ]
  },
  {
   "cell_type": "code",
   "execution_count": null,
   "metadata": {},
   "outputs": [],
   "source": [
    "device = (\"cuda:0\" if torch.cuda.is_available() else \"cpu\")\n",
    "print(device)\n",
    "model.to(device)\n",
    "model.train()\n",
    "criterion = nn.L1Loss()\n",
    "\n",
    "optimizer = optim.Adam(model.parameters(), lr=1e-2)\n",
    "scheduler = torch.optim.lr_scheduler.ReduceLROnPlateau(optimizer, patience=5, threshold=1e-5)\n",
    "\n",
    "# overfit to minibatch\n",
    "iter_train = iter(loader_train)\n",
    "\n",
    "steps = 10000\n",
    "img, labels = iter_train.next() # retrieve minibatch\n",
    "img, labels = img.to(device), labels.to(device)\n",
    "\n",
    "epoch_pbar = tqdm_notebook(range(steps))\n",
    "\n",
    "for steps in epoch_pbar:\n",
    "    output = model.forward(img)\n",
    "    loss = criterion(output, labels)\n",
    "    epoch_pbar.set_description(\"Loss: {}\".format(str(loss.item())))\n",
    "    loss.backward()\n",
    "    optimizer.step()\n",
    "    scheduler.step(loss.item())\n",
    "    optimizer.zero_grad()"
   ]
  },
  {
   "cell_type": "code",
   "execution_count": null,
   "metadata": {},
   "outputs": [],
   "source": [
    "sample = iter_train.next()"
   ]
  },
  {
   "cell_type": "code",
   "execution_count": null,
   "metadata": {},
   "outputs": [],
   "source": [
    "audio_t = transforms.GriffinLim(n_fft=255)"
   ]
  },
  {
   "cell_type": "code",
   "execution_count": null,
   "metadata": {},
   "outputs": [],
   "source": [
    "preds = model.forward(img.to(device))"
   ]
  },
  {
   "cell_type": "code",
   "execution_count": null,
   "metadata": {},
   "outputs": [],
   "source": [
    "fig = plt.figure(figsize=(8, 8))\n",
    "fig.add_subplot(1, 2, 1)\n",
    "plt.imshow(preds[0].cpu().squeeze(0).detach().numpy())\n",
    "fig.add_subplot(1, 2, 2)\n",
    "plt.imshow(labels[0].cpu().squeeze(0).detach().numpy())"
   ]
  },
  {
   "cell_type": "code",
   "execution_count": null,
   "metadata": {},
   "outputs": [],
   "source": [
    "IPython.display.Audio(audio_t(preds[8].cpu()).detach().numpy(), rate=22050)"
   ]
  },
  {
   "cell_type": "code",
   "execution_count": null,
   "metadata": {},
   "outputs": [
    {
     "data": {
      "application/vnd.jupyter.widget-view+json": {
       "model_id": "f88d71fcd40840389cbcbb416f1096a9",
       "version_major": 2,
       "version_minor": 0
      },
      "text/plain": [
       "HBox(children=(IntProgress(value=0, max=90), HTML(value='')))"
      ]
     },
     "metadata": {},
     "output_type": "display_data"
    },
    {
     "data": {
      "application/vnd.jupyter.widget-view+json": {
       "model_id": "2c0369cd1c2144b29851077b3c2fe878",
       "version_major": 2,
       "version_minor": 0
      },
      "text/plain": [
       "HBox(children=(IntProgress(value=0, max=480), HTML(value='')))"
      ]
     },
     "metadata": {},
     "output_type": "display_data"
    },
    {
     "name": "stdout",
     "output_type": "stream",
     "text": [
      "bad_batches: 4\n",
      "avg train loss: 0.34676499298463265\n"
     ]
    },
    {
     "data": {
      "application/vnd.jupyter.widget-view+json": {
       "model_id": "4fa8f84a1f4c4d4bbfef518f104abe6f",
       "version_major": 2,
       "version_minor": 0
      },
      "text/plain": [
       "HBox(children=(IntProgress(value=0, max=480), HTML(value='')))"
      ]
     },
     "metadata": {},
     "output_type": "display_data"
    },
    {
     "name": "stdout",
     "output_type": "stream",
     "text": [
      "bad_batches: 4\n",
      "avg train loss: 0.3442872630432248\n"
     ]
    },
    {
     "data": {
      "application/vnd.jupyter.widget-view+json": {
       "model_id": "6404094b956b4c1e839daaa45713f81e",
       "version_major": 2,
       "version_minor": 0
      },
      "text/plain": [
       "HBox(children=(IntProgress(value=0, max=480), HTML(value='')))"
      ]
     },
     "metadata": {},
     "output_type": "display_data"
    }
   ],
   "source": [
    "epochs = 90\n",
    "model.train()\n",
    "\n",
    "writer = SummaryWriter()\n",
    "\n",
    "epoch_pbar = tqdm_notebook(range(epochs))\n",
    "\n",
    "for epoch in epoch_pbar:\n",
    "    # training\n",
    "    iter_train = iter(loader_train)\n",
    "    offset = epoch * len(loader_train) # training_iter offset\n",
    "    data_pbar = tqdm_notebook(range(len(loader_train)))\n",
    "    train_loss = 0\n",
    "    bad_batches = 0\n",
    "    for data in data_pbar:\n",
    "        # hack to bypass dataloading error.\n",
    "        # will result in lower loss than actual (since dividing by larger number)\n",
    "        try:\n",
    "            img, labels = iter_train.next()\n",
    "        except:\n",
    "            bad_batches += 1\n",
    "        img, labels = img.to(device), labels.to(device)\n",
    "        output = model.forward(img)\n",
    "        \n",
    "        loss = criterion(output, labels)\n",
    "        loss.backward()\n",
    "        \n",
    "        optimizer.step()\n",
    "        optimizer.zero_grad()\n",
    "        \n",
    "        data_pbar.set_description(\"Training Loss: {}\".format(str(loss.item())))\n",
    "        global_batch_num = offset + data\n",
    "        writer.add_scalar('Loss/train', loss.item(), global_batch_num) # plotting train loss over batch_num\n",
    "        train_loss += loss.item()\n",
    "    print('bad_batches:', bad_batches)\n",
    "    train_loss /= len(loader_train)\n",
    "    print('avg train loss:', train_loss)\n",
    "    scheduler.step(train_loss)\n",
    "    torch.cuda.empty_cache()"
   ]
  },
  {
   "cell_type": "code",
   "execution_count": null,
   "metadata": {},
   "outputs": [],
   "source": []
  }
 ],
 "metadata": {
  "kernelspec": {
   "display_name": "Python 3",
   "language": "python",
   "name": "python3"
  },
  "language_info": {
   "codemirror_mode": {
    "name": "ipython",
    "version": 3
   },
   "file_extension": ".py",
   "mimetype": "text/x-python",
   "name": "python",
   "nbconvert_exporter": "python",
   "pygments_lexer": "ipython3",
   "version": "3.6.10"
  }
 },
 "nbformat": 4,
 "nbformat_minor": 4
}
